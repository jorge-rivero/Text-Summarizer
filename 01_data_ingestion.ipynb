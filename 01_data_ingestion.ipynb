{
 "cells": [
  {
   "cell_type": "code",
   "execution_count": 2,
   "id": "c916bc6d-16ac-41ff-9a7f-db501cebe79d",
   "metadata": {},
   "outputs": [],
   "source": []
  },
  {
   "cell_type": "code",
   "execution_count": null,
   "id": "e16b218e-e2ca-4279-97d0-5bad9924f0f1",
   "metadata": {},
   "outputs": [],
   "source": []
  },
  {
   "cell_type": "markdown",
   "id": "f6015a86-ee4d-40bd-a1ac-6a9553bf5e16",
   "metadata": {},
   "source": [
    "## Entity"
   ]
  },
  {
   "cell_type": "code",
   "execution_count": 4,
   "id": "5aeb47a2-2590-4e18-9fd4-ad300087e4f1",
   "metadata": {},
   "outputs": [],
   "source": [
    "from dataclasses import dataclass\n",
    "from pathlib import Path\n",
    "\n",
    "@dataclass(frozen=True)\n",
    "class DataIngestionConfig:\n",
    "    root_dir: Path\n",
    "    source_URL: str\n",
    "    local_data_file: Path\n",
    "    unzip_dir: Path"
   ]
  },
  {
   "cell_type": "markdown",
   "id": "49511b86-9947-4f26-97e5-909e27885820",
   "metadata": {},
   "source": [
    "## Configuration Manager"
   ]
  },
  {
   "cell_type": "code",
   "execution_count": null,
   "id": "be0074ab-3fcb-470d-88ab-070d24ff847a",
   "metadata": {},
   "outputs": [],
   "source": [
    "from textSummarizer.constants import CONFIG_FILE_PATH, PARAMS_FILE_PATH\n",
    "from textSummarizer.utils.common import create_directories, read_yaml\n",
    "from textSummarizer.entity import DataIngestionConfig\n",
    "\n",
    "\n",
    "class ConfigurationManager:\n",
    "    def __init__(self, config_filepath=CONFIG_FILE_PATH, params_filepath=PARAMS_FILE_PATH):\n",
    "        self.config = read_yaml(config_filepath)\n",
    "        self.params = read_yaml(params_filepath)\n",
    "\n",
    "        create_directories([self.config.artifacts_root])\n",
    "\n",
    "    def get_data_ingestion_config(self) -> DataIngestionConfig:\n",
    "        config = self.config.data_ingestion\n",
    "\n",
    "        create_directories([self.config.artifacts_root])\n",
    "\n",
    "        data_ingestion_config = DataIngestionConfig(\n",
    "            root_dir=config.root_dir,\n",
    "            source_URL=config.source_URL,\n",
    "            local_data_file=config.local_data_file,\n",
    "            unzip_dir=config.unzip_dir\n",
    "        )\n",
    "        return data_ingestion_config"
   ]
  },
  {
   "cell_type": "markdown",
   "id": "eb7f7e82-c14e-45c0-9c81-980bbf73b0a3",
   "metadata": {},
   "source": [
    "## Component"
   ]
  },
  {
   "cell_type": "code",
   "execution_count": null,
   "id": "a5e73694-d42b-4d48-87d3-4def6575de1e",
   "metadata": {},
   "outputs": [],
   "source": [
    "import os\n",
    "import urllib.request as request\n",
    "import zipfile\n",
    "from textSummarizer.logging import logger\n",
    "from textSummarizer.utils.common import get_size\n",
    "from pathlib import Path\n",
    "from textSummarizer.entity import DataIngestionConfig\n",
    "\n",
    "\n",
    "class DataIngestion:\n",
    "    def __init__(self, config: DataIngestionConfig):\n",
    "        self.config = config\n",
    "\n",
    "    def download_file(self):\n",
    "        if not os.path.exists(self.config.local_data_file):\n",
    "            filename, headers = request.urlretrieve(\n",
    "                url=self.config.source_URL,\n",
    "                filename=self.config.local_data_file\n",
    "            )\n",
    "            logger.info(f\"{filename} download! with following info: \\n{headers}\")\n",
    "        else:\n",
    "            logger.info(f\"File already exists of size: {get_size(Path(self.config.local_data_file))}\")\n",
    "\n",
    "    def extract_zip_file(self):\n",
    "        \"\"\"\n",
    "        zip_file_path: str\n",
    "        Extracts the zip file into the data directory\n",
    "        Function returns None\n",
    "        \"\"\"\n",
    "        unzip_path = self.config.unzip_dir\n",
    "        os.makedirs(unzip_path, exist_ok=True)\n",
    "        with zipfile.ZipFile(self.config.local_data_file, 'r') as zip_ref:\n",
    "            zip_ref.extractall(unzip_path)\n",
    "\n",
    "    def initiate_data_ingestion(self):\n",
    "        self.download_file()\n",
    "        self.extract_zip_file()"
   ]
  },
  {
   "cell_type": "markdown",
   "id": "e221b865-258c-4385-bb8e-88fe8668f40d",
   "metadata": {},
   "source": [
    "## Pipeline"
   ]
  },
  {
   "cell_type": "code",
   "execution_count": 6,
   "id": "bea6dc5a-c432-48c8-9f96-b2a4519645ed",
   "metadata": {},
   "outputs": [
    {
     "name": "stdout",
     "output_type": "stream",
     "text": [
      "[2023-10-10 10:33:22,313:  textSummarizerLogger: INFO: common: Line 28 - yaml file: config/config.yaml loaded successfully]\n",
      "[2023-10-10 10:33:22,327:  textSummarizerLogger: INFO: common: Line 28 - yaml file: params.yaml loaded successfully]\n",
      "[2023-10-10 10:33:22,331:  textSummarizerLogger: INFO: common: Line 46 - created directory at: artifacts]\n",
      "[2023-10-10 10:33:22,333:  textSummarizerLogger: INFO: common: Line 46 - created directory at: artifacts]\n",
      "[2023-10-10 10:33:22,334:  textSummarizerLogger: INFO: data_ingestion: Line 22 - File already exists of size: ~ 8 MB]\n"
     ]
    }
   ],
   "source": [
    "from textSummarizer.config.configuration import ConfigurationManager\n",
    "from textSummarizer.components.data_ingestion import DataIngestion\n",
    "from textSummarizer.logging import logger\n",
    "\n",
    "\n",
    "config = ConfigurationManager()\n",
    "data_ingestion_config = config.get_data_ingestion_config()\n",
    "data_ingestion = DataIngestion(config=data_ingestion_config)\n",
    "data_ingestion.initiate_data_ingestion()\n"
   ]
  },
  {
   "cell_type": "markdown",
   "id": "d0986bee-51c0-4045-bf46-a033c2e68bf4",
   "metadata": {},
   "source": [
    "## Main"
   ]
  },
  {
   "cell_type": "code",
   "execution_count": 7,
   "id": "4ce12549-33b9-43a2-8dfd-fe8ff6954c35",
   "metadata": {},
   "outputs": [
    {
     "name": "stdout",
     "output_type": "stream",
     "text": [
      "[2023-10-10 10:33:33,326:  textSummarizerLogger: INFO: 367653918: Line 6 - >>>>>> stage Data Ingestion stage started <<<<<<]\n",
      "[2023-10-10 10:33:33,328:  textSummarizerLogger: INFO: common: Line 28 - yaml file: config/config.yaml loaded successfully]\n",
      "[2023-10-10 10:33:33,330:  textSummarizerLogger: INFO: common: Line 28 - yaml file: params.yaml loaded successfully]\n",
      "[2023-10-10 10:33:33,330:  textSummarizerLogger: INFO: common: Line 46 - created directory at: artifacts]\n",
      "[2023-10-10 10:33:33,330:  textSummarizerLogger: INFO: common: Line 46 - created directory at: artifacts]\n",
      "[2023-10-10 10:33:33,331:  textSummarizerLogger: INFO: data_ingestion: Line 22 - File already exists of size: ~ 8 MB]\n",
      "[2023-10-10 10:33:33,410:  textSummarizerLogger: INFO: 367653918: Line 9 - >>>>>> stage Data Ingestion stage completed <<<<<<\n",
      "\n",
      "x==========x]\n"
     ]
    }
   ],
   "source": [
    "from textSummarizer.pipeline.stage_01_data_ingestion import DataIngestionTrainingPipeline\n",
    "from textSummarizer.logging import logger\n",
    "\n",
    "STAGE_NAME = \"Data Ingestion stage\"\n",
    "try:\n",
    "    logger.info(f\">>>>>> stage {STAGE_NAME} started <<<<<<\")\n",
    "    data_ingestion = DataIngestionTrainingPipeline()\n",
    "    data_ingestion.main()\n",
    "    logger.info(f\">>>>>> stage {STAGE_NAME} completed <<<<<<\\n\\nx==========x\")\n",
    "except Exception as e:\n",
    "    logger.exception(e)\n",
    "    raise e\n"
   ]
  },
  {
   "cell_type": "code",
   "execution_count": null,
   "id": "26f0689a-54db-4809-8a42-9445bf8447e5",
   "metadata": {},
   "outputs": [],
   "source": []
  }
 ],
 "metadata": {
  "kernelspec": {
   "display_name": "Python 3 (ipykernel)",
   "language": "python",
   "name": "python3"
  },
  "language_info": {
   "codemirror_mode": {
    "name": "ipython",
    "version": 3
   },
   "file_extension": ".py",
   "mimetype": "text/x-python",
   "name": "python",
   "nbconvert_exporter": "python",
   "pygments_lexer": "ipython3",
   "version": "3.11.4"
  }
 },
 "nbformat": 4,
 "nbformat_minor": 5
}
